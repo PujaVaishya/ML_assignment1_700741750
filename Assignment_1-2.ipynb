{
 "cells": [
  {
   "cell_type": "code",
   "execution_count": 1,
   "id": "a59e8b5a",
   "metadata": {},
   "outputs": [
    {
     "name": "stdout",
     "output_type": "stream",
     "text": [
      "[19, 19, 20, 22, 24, 24, 24, 25, 25, 26]\n",
      "19\n",
      "26\n",
      "[19, 19, 20, 22, 24, 24, 24, 25, 25, 26, 19]\n",
      "[19, 19, 20, 22, 24, 24, 24, 25, 25, 26, 19, 26]\n",
      "24.0\n",
      "Average 22.8\n",
      "7\n"
     ]
    }
   ],
   "source": [
    "#The following is a list of 10 students ages:\n",
    "\n",
    "ages = [19, 22, 19, 24, 20, 25, 26, 24, 25, 24]\n",
    "\n",
    "# Sort the list and find the min and max age\n",
    "\n",
    "ages.sort()\n",
    "\n",
    "print(ages)\n",
    "\n",
    "print(min(ages))\n",
    "\n",
    "print(max(ages))\n",
    "\n",
    "# Add the min age and the max age again to the list\n",
    "\n",
    "ages.append(19)\n",
    "print(ages)\n",
    "\n",
    "ages.append(26)\n",
    "print(ages)\n",
    "\n",
    "#Find the median age (one middle item or two middle items divided by two)\n",
    "\n",
    "#to access statistics in python.\n",
    "\n",
    "import statistics\n",
    "ages = [19, 22, 19, 24, 20, 25, 26, 24, 25, 24]\n",
    "print(statistics.median(ages))\n",
    "\n",
    "#Find the average age (sum of all items divided by their number)\n",
    "\n",
    "#sum() and len() are built-in functions and can be use to find average in python.\n",
    "\n",
    "avg = sum(ages)/len(ages)\n",
    "print(\"Average\",round(avg,2))\n",
    "\n",
    "#Find the range of the ages (max minus min)\n",
    "\n",
    "range = max(ages) - min(ages)\n",
    "print(range)"
   ]
  },
  {
   "cell_type": "code",
   "execution_count": 149,
   "id": "f5054768",
   "metadata": {},
   "outputs": [
    {
     "name": "stdout",
     "output_type": "stream",
     "text": [
      "{}\n",
      "{'name': 'Bruno', 'Color': 'Brown', 'Breed': 'pug', 'age': 2, 'legs': 2}\n",
      "{'first_name': 'Puja', 'last_name': 'Vaishya', 'gender': 'female', 'age': 25, 'marital status': 'single', 'skills': 'Python', 'country': 'USA', 'city': 'Warrensburg', 'address': 'Diamonds Club Apartment'}\n",
      "9\n",
      "Python\n",
      "{'first_name': 'Puja', 'last_name': 'Vaishya', 'gender': 'female', 'age': 25, 'marital status': 'single', 'skills': 'Java', 'country': 'USA', 'city': 'Warrensburg', 'address': 'Diamonds Club Apartment'}\n",
      "dict_keys(['first_name', 'last_name', 'gender', 'age', 'marital status', 'skills', 'country', 'city', 'address'])\n",
      "dict_values(['Puja', 'Vaishya', 'female', 25, 'single', 'Java', 'USA', 'Warrensburg', 'Diamonds Club Apartment'])\n"
     ]
    }
   ],
   "source": [
    "#Create an empty dictionary called dog\n",
    "\n",
    "dog = {}\n",
    "print(dog)\n",
    "\n",
    "#Add name, color, breed, legs, age to the dog dictionary\n",
    "\n",
    "dog = {'name':'Bruno', 'Color':'Brown', 'Breed':'pug', 'age': 2,'legs': 2}\n",
    "print(dog)\n",
    "\n",
    "#Create a student dictionary and add first_name, last_name, gender, age, marital status,skills, country, city and address as keys for the dictionary\n",
    "\n",
    "student = {'first_name':'Puja', 'last_name':'Vaishya', 'gender':'female', 'age': 25, 'marital status': 'single',\n",
    "           'skills':'Python', 'country':'USA', 'city':'Warrensburg', 'address': 'Diamonds Club Apartment'}\n",
    "print(student)\n",
    "\n",
    "#Get the length of the student dictionary\n",
    "\n",
    "print(len(student))\n",
    "\n",
    "#Get the value of skills and check the data type, it should be a list\n",
    "\n",
    "print(student['skills'])\n",
    "\n",
    "#Modify the skills values by adding one or two skills\n",
    "\n",
    "student.update({'skills' : 'Java'})\n",
    "print(student)\n",
    "\n",
    "#Get the dictionary keys as a list\n",
    "\n",
    "print(student.keys())\n",
    "\n",
    "#Get the dictionary values as a list\n",
    "\n",
    "print(student.values())\n",
    "\n",
    "\n"
   ]
  },
  {
   "cell_type": "code",
   "execution_count": 150,
   "id": "74c13e30",
   "metadata": {},
   "outputs": [
    {
     "name": "stdout",
     "output_type": "stream",
     "text": [
      "('Amay', 'Andy', 'Pranita', 'Pari')\n",
      "4\n",
      "('Amay', 'Andy', 'Pranita', 'Pari', 'Adwait', 'Praniti')\n"
     ]
    }
   ],
   "source": [
    "#Create a tuple containing names of your sisters and your brothers (imaginary siblings are fine)\n",
    "Tup1 = ('Amay' , 'Andy')\n",
    "Tup2 = ('Pranita' , 'Pari')\n",
    "\n",
    "#Join brothers and sisters tuples and assign it to siblings\n",
    "\n",
    "Siblings = (Tup1 + Tup2);\n",
    "print(Siblings)\n",
    "\n",
    "#How many siblings do you have?\n",
    "\n",
    "Siblings_1 = len(Siblings)\n",
    "print(Siblings_1)\n",
    "\n",
    "#Modify the siblings tuple and add the name of your father and mother and assign it to family_members\n",
    "\n",
    "Tup3 = ('Adwait' , 'Praniti')\n",
    "family_members = (Siblings + Tup3);\n",
    "\n",
    "print(family_members)\n"
   ]
  },
  {
   "cell_type": "code",
   "execution_count": 183,
   "id": "c16af76d",
   "metadata": {},
   "outputs": [
    {
     "data": {
      "text/plain": [
       "7"
      ]
     },
     "execution_count": 183,
     "metadata": {},
     "output_type": "execute_result"
    }
   ],
   "source": [
    "it_companies = {'Facebook', 'Google', 'Microsoft', 'Apple', 'IBM', 'Oracle', 'Amazon'}\n",
    "\n",
    "A = {19, 22, 24, 20, 25, 26}\n",
    "B = {19, 22, 20, 25, 26, 24, 28, 27}\n",
    "\n",
    "age = [22, 19, 24, 25, 26, 24, 25, 24]\n",
    "\n",
    "#Find the length of the set it_companies\n",
    "\n",
    "len(it_companies)\n",
    "\n",
    "#What is the difference between remove and discard\n",
    "## remove() method raises an error when the specified element is not exist in the set, but discard() method does not gives error when specified item is not available in the set.\n",
    "\n"
   ]
  },
  {
   "cell_type": "code",
   "execution_count": 184,
   "id": "30d7ca61",
   "metadata": {},
   "outputs": [
    {
     "name": "stdout",
     "output_type": "stream",
     "text": [
      "{'Apple', 'Twitter', 'Oracle', 'IBM', 'Microsoft', 'Amazon', 'Facebook', 'Google'}\n"
     ]
    }
   ],
   "source": [
    "#adding Twitter to a set\n",
    "it_companies.add('Twitter')\n",
    "print(it_companies)\n"
   ]
  },
  {
   "cell_type": "code",
   "execution_count": 185,
   "id": "a66db8ff",
   "metadata": {},
   "outputs": [
    {
     "name": "stdout",
     "output_type": "stream",
     "text": [
      "{'Twitter', 'IBM', 'Accenture', 'Google', 'Apple', 'Dell', 'Infosys', 'Microsoft', 'Oracle', 'Amazon', 'Facebook'}\n"
     ]
    }
   ],
   "source": [
    "#Insert multiple IT companies at once to the set it_companies\n",
    "\n",
    "it_companies1 = ('Accenture' , 'Dell' , 'Infosys')\n",
    "it_companies.update(it_companies1)\n",
    "print(it_companies)"
   ]
  },
  {
   "cell_type": "code",
   "execution_count": 186,
   "id": "ed536411",
   "metadata": {},
   "outputs": [
    {
     "name": "stdout",
     "output_type": "stream",
     "text": [
      "{'Twitter', 'IBM', 'Accenture', 'Google', 'Apple', 'Infosys', 'Microsoft', 'Oracle', 'Amazon', 'Facebook'}\n"
     ]
    }
   ],
   "source": [
    "#Remove one of the companies from the set it_companies\n",
    "\n",
    "it_companies.remove('Dell')\n",
    "print(it_companies)"
   ]
  },
  {
   "cell_type": "code",
   "execution_count": 32,
   "id": "f2396a57",
   "metadata": {},
   "outputs": [
    {
     "name": "stdout",
     "output_type": "stream",
     "text": [
      "{19, 20, 22, 24, 25, 26, 27, 28}\n",
      "{19, 20, 22, 24, 25, 26, 27, 28}\n",
      "True\n",
      "False\n",
      "{19, 20, 22, 24, 25, 26, 27, 28}\n",
      "{19, 20, 22, 24, 25, 26, 27, 28}\n",
      "set()\n",
      "set()\n",
      "set()\n",
      "{19, 22, 24, 25, 26}\n",
      "True\n"
     ]
    }
   ],
   "source": [
    "#Join A and B\n",
    "A = {19, 22, 24, 20, 25, 26}\n",
    "B = {19, 22, 20, 25, 26, 24, 28, 27}\n",
    "age = [22, 19, 24, 25, 26, 24, 25, 24]\n",
    "A.update(B)  # update() , union() use to join two sets.\n",
    "print(A)\n",
    "\n",
    "#Find A intersection B\n",
    "\n",
    "print(A.intersection(B))\n",
    "\n",
    "#Is A subset of B\n",
    "print(A.issubset(B))\n",
    "\n",
    "#Are A and B disjoint sets\n",
    "print(A.isdisjoint(B))\n",
    "\n",
    "#Join A with B and B with A\n",
    "\n",
    "print(A.union(B))\n",
    "print(B.union(A))\n",
    "\n",
    "#What is the symmetric difference between A and B\n",
    "\n",
    "print(A.symmetric_difference(B))\n",
    "\n",
    "#Delete the sets completely\n",
    "A.clear()\n",
    "print(A)\n",
    "\n",
    "B.clear()\n",
    "print(B)\n",
    "\n",
    "#Convert the ages to a set and compare the length of the list and the set\n",
    "\n",
    "print(set(age))\n",
    "\n",
    "print(len(set(age)) < len(age))\n",
    "\n"
   ]
  },
  {
   "cell_type": "code",
   "execution_count": 39,
   "id": "74c79337",
   "metadata": {},
   "outputs": [
    {
     "name": "stdout",
     "output_type": "stream",
     "text": [
      "2826.0\n",
      "188.4\n",
      "Enter The Radius:10\n",
      "314.0\n"
     ]
    }
   ],
   "source": [
    "#The radius of a circle is 30 meters.\n",
    "\n",
    "#Calculate the area of a circle and assign the value to a variable name of _area_of_circle_\n",
    "\n",
    "radius = 30\n",
    "pi = 3.14\n",
    "_area_of_circle_ = pi*radius*radius\n",
    "print(_area_of_circle_)\n",
    "\n",
    "\n",
    "#Calculate the circumference of a circle and assign the value to a variable name of _circum_of_circle_\n",
    "_circum_of_circle_ = 2*pi*radius\n",
    "print(_circum_of_circle_)\n",
    "\n",
    "#Take radius as user input and calculate the area.\n",
    "\n",
    "r = input('Enter The Radius:')\n",
    "r = int(r)\n",
    "area = pi*r*r\n",
    "print(area)"
   ]
  },
  {
   "cell_type": "code",
   "execution_count": 43,
   "id": "2d054dcc",
   "metadata": {},
   "outputs": [
    {
     "name": "stdout",
     "output_type": "stream",
     "text": [
      "10\n"
     ]
    }
   ],
   "source": [
    "# “I am a teacher and I love to inspire and teach people”\n",
    "#How many unique words have been used in the sentence? Use the split methods and set to get the unique words.\n",
    "\n",
    "sentence = \"I am a teacher and I love to inspire and teach people\"\n",
    "\n",
    "print(len(set(sentence.split())))"
   ]
  },
  {
   "cell_type": "code",
   "execution_count": 44,
   "id": "8a0ef3a5",
   "metadata": {},
   "outputs": [
    {
     "name": "stdout",
     "output_type": "stream",
     "text": [
      "Name\u000b",
      "Age\u000b",
      "Country\u000b",
      "City \n",
      "Asabeneh 250 Finland Helsinki\n"
     ]
    }
   ],
   "source": [
    "#Use a tab escape sequence to get the following lines.\n",
    "#Name Age Country City\n",
    "#Asabeneh 250 Finland Helsinki\n",
    "\n",
    "line_1 = 'Name\\vAge\\vCountry\\vCity'\n",
    "line_2 = '\\nAsabeneh 250 Finland Helsinki'\n",
    "print(line_1,line_2)\n"
   ]
  },
  {
   "cell_type": "code",
   "execution_count": 46,
   "id": "51aebce0",
   "metadata": {},
   "outputs": [
    {
     "name": "stdout",
     "output_type": "stream",
     "text": [
      "radius = 10\n",
      "area = 3.14 * radius ** 2\n",
      "The area of a circle with radius 10 is 314 meters square.\n"
     ]
    }
   ],
   "source": [
    "#Use the string formatting method to display the following:\n",
    "radius = 10\n",
    "area = 3.14 * radius ** 2\n",
    "#“The area of a circle with radius 10 is 314 meters square.”\n",
    "\n",
    "print('radius =', 10)\n",
    "print('area =', 3.14, '* radius **', 2)  #two * sign means exponent or power\n",
    "print('The area of a circle with radius', 10, 'is', 314, 'meters square.')\n"
   ]
  },
  {
   "cell_type": "code",
   "execution_count": 3,
   "id": "87387479",
   "metadata": {},
   "outputs": [
    {
     "name": "stdout",
     "output_type": "stream",
     "text": [
      "Enter num of students2\n",
      "Enter weight in lbs:134\n",
      "Enter weight in lbs:156\n",
      "The list in kilograms is: [60.781328, 70.760352]\n"
     ]
    }
   ],
   "source": [
    "#Write a program, which reads weights (lbs.) of N students into a list and convert these weights to kilograms in a separate list using Loop. N: No of students (Read input from user)kilograms in a separate list using Loop. N: No of students (Read input from user)\n",
    "#Ex: L1: [150, 155, 145, 148]\n",
    "#Output: [68.03, 70.3, 65.77, 67.13]\n",
    "\n",
    "conversionrate = 0.453592     #conversion rate from lbs to kgs is 0.453592\n",
    "x = int(input('Enter num of students'))\n",
    "\n",
    "List=[]\n",
    "for i in range(x):\n",
    "    List.append(int(input('Enter weight in lbs:')))\n",
    "    \n",
    "output = [conversionrate * i for i in List]\n",
    "\n",
    "print(\"The list in kilograms is:\",output)"
   ]
  },
  {
   "cell_type": "code",
   "execution_count": null,
   "id": "194e1ce2",
   "metadata": {},
   "outputs": [],
   "source": []
  },
  {
   "cell_type": "code",
   "execution_count": null,
   "id": "cd608520",
   "metadata": {},
   "outputs": [],
   "source": []
  },
  {
   "cell_type": "code",
   "execution_count": null,
   "id": "89a4aac9",
   "metadata": {},
   "outputs": [],
   "source": []
  },
  {
   "cell_type": "code",
   "execution_count": null,
   "id": "5db11ffc",
   "metadata": {},
   "outputs": [],
   "source": []
  }
 ],
 "metadata": {
  "kernelspec": {
   "display_name": "Python 3 (ipykernel)",
   "language": "python",
   "name": "python3"
  },
  "language_info": {
   "codemirror_mode": {
    "name": "ipython",
    "version": 3
   },
   "file_extension": ".py",
   "mimetype": "text/x-python",
   "name": "python",
   "nbconvert_exporter": "python",
   "pygments_lexer": "ipython3",
   "version": "3.9.12"
  }
 },
 "nbformat": 4,
 "nbformat_minor": 5
}
